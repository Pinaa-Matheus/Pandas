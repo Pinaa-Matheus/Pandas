{
 "cells": [
  {
   "cell_type": "code",
   "execution_count": 1,
   "id": "b5455135",
   "metadata": {},
   "outputs": [
    {
     "name": "stdout",
     "output_type": "stream",
     "text": [
      "31.266666666666666\n"
     ]
    }
   ],
   "source": [
    "idades = [\n",
    "    32, 38, 30, 30, 31,\n",
    "    35, 25, 29, 31, 37,\n",
    "    27, 23, 36, 33, 32,\n",
    "]\n",
    "\n",
    "media = sum(idades) / len(idades) # Len = Numeros de itens na lista || Sum = Somar todos os elementos em python\n",
    "print (media)"
   ]
  },
  {
   "cell_type": "code",
   "execution_count": 7,
   "id": "06452b64",
   "metadata": {},
   "outputs": [
    {
     "name": "stdout",
     "output_type": "stream",
     "text": [
      "Variancia 18.066666666666666\n"
     ]
    }
   ],
   "source": [
    "# Variância é um conceito estatístico que mede a dispersão de um conjunto de dados em relação à sua média\n",
    "\n",
    "diffs = 0 \n",
    "for i in idades: \n",
    "    diffs += (i - media) ** 2 \n",
    "\n",
    "variancia = diffs / (len(idades) - 1)\n",
    "\n",
    "print(f\"Variancia\", variancia)"
   ]
  },
  {
   "cell_type": "code",
   "execution_count": null,
   "id": "26cdb293",
   "metadata": {},
   "outputs": [
    {
     "data": {
      "text/plain": [
       "0     32\n",
       "1     38\n",
       "2     30\n",
       "3     30\n",
       "4     31\n",
       "5     35\n",
       "6     25\n",
       "7     29\n",
       "8     31\n",
       "9     37\n",
       "10    27\n",
       "11    23\n",
       "12    36\n",
       "13    33\n",
       "14    32\n",
       "dtype: int64"
      ]
     },
     "execution_count": 4,
     "metadata": {},
     "output_type": "execute_result"
    }
   ],
   "source": [
    "# Agora com Pandas\n",
    "\n",
    "import pandas as pd\n",
    "\n",
    "series_idade = pd.Series(idades)\n",
    "series_idade\n",
    "\n",
    "# Agora estou amarzenando os dados em uma serie e não mais em uma lista \n",
    "#Dtype é o tipo de dados aqui nesse exemplo é so de numeros inteiros "
   ]
  },
  {
   "cell_type": "code",
   "execution_count": 9,
   "id": "9d90a252",
   "metadata": {},
   "outputs": [
    {
     "data": {
      "text/plain": [
       "count    15.000000\n",
       "mean     31.266667\n",
       "std       4.250490\n",
       "min      23.000000\n",
       "25%      29.500000\n",
       "50%      31.000000\n",
       "75%      34.000000\n",
       "max      38.000000\n",
       "dtype: float64"
      ]
     },
     "execution_count": 9,
     "metadata": {},
     "output_type": "execute_result"
    }
   ],
   "source": [
    "media_idades = series_idade.mean() #Media da idades\n",
    "var_idades = series_idade.var()    #Variancia\n",
    "summary_idades = series_idade.describe()\n",
    "summary_idades"
   ]
  }
 ],
 "metadata": {
  "kernelspec": {
   "display_name": "base",
   "language": "python",
   "name": "python3"
  },
  "language_info": {
   "codemirror_mode": {
    "name": "ipython",
    "version": 3
   },
   "file_extension": ".py",
   "mimetype": "text/x-python",
   "name": "python",
   "nbconvert_exporter": "python",
   "pygments_lexer": "ipython3",
   "version": "3.13.5"
  }
 },
 "nbformat": 4,
 "nbformat_minor": 5
}
