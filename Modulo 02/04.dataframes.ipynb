{
 "cells": [
  {
   "cell_type": "code",
   "execution_count": 5,
   "id": "202eb06b",
   "metadata": {},
   "outputs": [],
   "source": [
    "import pandas as pd"
   ]
  },
  {
   "cell_type": "code",
   "execution_count": 7,
   "id": "e2be6deb",
   "metadata": {},
   "outputs": [
    {
     "data": {
      "text/plain": [
       "0     32\n",
       "1     38\n",
       "2     30\n",
       "3     30\n",
       "4     31\n",
       "5     35\n",
       "6     25\n",
       "7     29\n",
       "8     31\n",
       "9     37\n",
       "10    27\n",
       "11    23\n",
       "12    36\n",
       "13    33\n",
       "14    32\n",
       "dtype: int64"
      ]
     },
     "execution_count": 7,
     "metadata": {},
     "output_type": "execute_result"
    }
   ],
   "source": [
    "idades = [\n",
    "    32, 38, 30, 30, 31,\n",
    "    35, 25, 29, 31, 37,\n",
    "    27, 23, 36, 33, 32,\n",
    "]\n",
    "\n",
    "nomes = [\n",
    "    \"Téo\", \"Maria\", \"Jose\", \"Luis\", \"Ana\",\n",
    "    \"Nah\", \"Dani\", \"Mah\", \"Fer\", \"Nanda\",\n",
    "    \"Naty\", \"Nih\", \"Pedro\", \"Kozato\", \"Tito\"\n",
    "]\n",
    "\n",
    "series_idades = pd.Series(idades)\n",
    "series_nomes = pd.Series(nomes)\n",
    "series_idades"
   ]
  },
  {
   "cell_type": "code",
   "execution_count": null,
   "id": "a59e6159",
   "metadata": {},
   "outputs": [
    {
     "data": {
      "text/html": [
       "<div>\n",
       "<style scoped>\n",
       "    .dataframe tbody tr th:only-of-type {\n",
       "        vertical-align: middle;\n",
       "    }\n",
       "\n",
       "    .dataframe tbody tr th {\n",
       "        vertical-align: top;\n",
       "    }\n",
       "\n",
       "    .dataframe thead th {\n",
       "        text-align: right;\n",
       "    }\n",
       "</style>\n",
       "<table border=\"1\" class=\"dataframe\">\n",
       "  <thead>\n",
       "    <tr style=\"text-align: right;\">\n",
       "      <th></th>\n",
       "      <th>idades</th>\n",
       "      <th>nomes</th>\n",
       "    </tr>\n",
       "  </thead>\n",
       "  <tbody>\n",
       "    <tr>\n",
       "      <th>0</th>\n",
       "      <td>32</td>\n",
       "      <td>Téo</td>\n",
       "    </tr>\n",
       "    <tr>\n",
       "      <th>1</th>\n",
       "      <td>38</td>\n",
       "      <td>Maria</td>\n",
       "    </tr>\n",
       "    <tr>\n",
       "      <th>2</th>\n",
       "      <td>30</td>\n",
       "      <td>Jose</td>\n",
       "    </tr>\n",
       "    <tr>\n",
       "      <th>3</th>\n",
       "      <td>30</td>\n",
       "      <td>Luis</td>\n",
       "    </tr>\n",
       "    <tr>\n",
       "      <th>4</th>\n",
       "      <td>31</td>\n",
       "      <td>Ana</td>\n",
       "    </tr>\n",
       "    <tr>\n",
       "      <th>5</th>\n",
       "      <td>35</td>\n",
       "      <td>Nah</td>\n",
       "    </tr>\n",
       "    <tr>\n",
       "      <th>6</th>\n",
       "      <td>25</td>\n",
       "      <td>Dani</td>\n",
       "    </tr>\n",
       "    <tr>\n",
       "      <th>7</th>\n",
       "      <td>29</td>\n",
       "      <td>Mah</td>\n",
       "    </tr>\n",
       "    <tr>\n",
       "      <th>8</th>\n",
       "      <td>31</td>\n",
       "      <td>Fer</td>\n",
       "    </tr>\n",
       "    <tr>\n",
       "      <th>9</th>\n",
       "      <td>37</td>\n",
       "      <td>Nanda</td>\n",
       "    </tr>\n",
       "    <tr>\n",
       "      <th>10</th>\n",
       "      <td>27</td>\n",
       "      <td>Naty</td>\n",
       "    </tr>\n",
       "    <tr>\n",
       "      <th>11</th>\n",
       "      <td>23</td>\n",
       "      <td>Nih</td>\n",
       "    </tr>\n",
       "    <tr>\n",
       "      <th>12</th>\n",
       "      <td>36</td>\n",
       "      <td>Pedro</td>\n",
       "    </tr>\n",
       "    <tr>\n",
       "      <th>13</th>\n",
       "      <td>33</td>\n",
       "      <td>Kozato</td>\n",
       "    </tr>\n",
       "    <tr>\n",
       "      <th>14</th>\n",
       "      <td>32</td>\n",
       "      <td>Tito</td>\n",
       "    </tr>\n",
       "  </tbody>\n",
       "</table>\n",
       "</div>"
      ],
      "text/plain": [
       "    idades   nomes\n",
       "0       32     Téo\n",
       "1       38   Maria\n",
       "2       30    Jose\n",
       "3       30    Luis\n",
       "4       31     Ana\n",
       "5       35     Nah\n",
       "6       25    Dani\n",
       "7       29     Mah\n",
       "8       31     Fer\n",
       "9       37   Nanda\n",
       "10      27    Naty\n",
       "11      23     Nih\n",
       "12      36   Pedro\n",
       "13      33  Kozato\n",
       "14      32    Tito"
      ]
     },
     "execution_count": 15,
     "metadata": {},
     "output_type": "execute_result"
    }
   ],
   "source": [
    "#DataFrames é um varal \n",
    "df = pd.DataFrame()\n",
    "df[\"idades\"] = series_idades\n",
    "df[\"nomes\"] = series_nomes"
   ]
  },
  {
   "cell_type": "code",
   "execution_count": null,
   "id": "4cfbe8ee",
   "metadata": {},
   "outputs": [
    {
     "data": {
      "text/plain": [
       "'Téo'"
      ]
     },
     "execution_count": 18,
     "metadata": {},
     "output_type": "execute_result"
    }
   ],
   "source": [
    "#Como acessar os dataframes\n",
    "\n",
    "df[\"nomes\"] \n",
    "#Isso aqui não parece uma serie?\n",
    "#Um DataFrame é, na prática, uma coleção de Séries\n",
    "\n",
    "#Consultar por linhas\n",
    "df.iloc[0]\n",
    "\n",
    "#Aqui estou pegando uma linha onde cada coluna é serie do meu dataframe\n"
   ]
  },
  {
   "cell_type": "code",
   "execution_count": null,
   "id": "d427e9a1",
   "metadata": {},
   "outputs": [
    {
     "data": {
      "text/plain": [
       "'Téo'"
      ]
     },
     "execution_count": 19,
     "metadata": {},
     "output_type": "execute_result"
    }
   ],
   "source": [
    "df.iloc[0][\"nomes\"]\n",
    "\n",
    "#Aqui quero saber sobre a primeira linha da coluna \"Nomes\"\n"
   ]
  },
  {
   "cell_type": "code",
   "execution_count": 21,
   "id": "70d03260",
   "metadata": {},
   "outputs": [
    {
     "data": {
      "text/plain": [
       "np.int64(32)"
      ]
     },
     "execution_count": 21,
     "metadata": {},
     "output_type": "execute_result"
    }
   ],
   "source": [
    "#Saber sobre a idade da ultima pessoa \n",
    "\n",
    "df.iloc[-1][\"idades\"]"
   ]
  }
 ],
 "metadata": {
  "kernelspec": {
   "display_name": "base",
   "language": "python",
   "name": "python3"
  },
  "language_info": {
   "codemirror_mode": {
    "name": "ipython",
    "version": 3
   },
   "file_extension": ".py",
   "mimetype": "text/x-python",
   "name": "python",
   "nbconvert_exporter": "python",
   "pygments_lexer": "ipython3",
   "version": "3.13.5"
  }
 },
 "nbformat": 4,
 "nbformat_minor": 5
}
